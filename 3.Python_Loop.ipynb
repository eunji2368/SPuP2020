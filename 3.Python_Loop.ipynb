{
 "cells": [
  {
   "cell_type": "markdown",
   "metadata": {},
   "source": [
    "### 반복문\n",
    "\n",
    "프로그래밍을 하다보면, 같은 혹은 비슷한 코드를 여러 번 반복해야 할 경우가 있다.  \n",
    "반복문은 이러한 반복 작업을 효율적으로 진행할 수 있게 한다."
   ]
  },
  {
   "cell_type": "markdown",
   "metadata": {},
   "source": [
    "#### ```while```\n",
    "\n",
    "같은 코드를 ```while```문을 이용하여 여러 번 실행할 수 있음  \n",
    "```while``` 루프 문은 주어진 조건이 참일 경우 목표 문장을 반복적으로 실행"
   ]
  },
  {
   "cell_type": "markdown",
   "metadata": {},
   "source": [
    "간단한 예제부터 살펴보자."
   ]
  },
  {
   "cell_type": "code",
   "execution_count": 1,
   "metadata": {},
   "outputs": [
    {
     "name": "stdout",
     "output_type": "stream",
     "text": [
      "I want to print this sentence repeatedly.\n",
      "I want to print this sentence repeatedly.\n",
      "I want to print this sentence repeatedly.\n",
      "I want to print this sentence repeatedly.\n",
      "I want to print this sentence repeatedly.\n"
     ]
    }
   ],
   "source": [
    "i = 0\n",
    "while i < 5:\n",
    "    print(\"I want to print this sentence repeatedly.\")\n",
    "    i += 1"
   ]
  },
  {
   "cell_type": "markdown",
   "metadata": {},
   "source": [
    "다음은 보다 복잡한 예제로서 5를 3번 합하여 15를 만드는 과정을 보여준다.  즉, 5 * 3을 더하기(5 + 5 + 5)로 반복하는 과정."
   ]
  },
  {
   "cell_type": "code",
   "execution_count": 2,
   "metadata": {},
   "outputs": [
    {
     "name": "stdout",
     "output_type": "stream",
     "text": [
      "15\n"
     ]
    }
   ],
   "source": [
    "x = 0\n",
    "j = 3\n",
    "while j > 0:\n",
    "    x += 5\n",
    "    j -= 1\n",
    "print(x)"
   ]
  },
  {
   "cell_type": "markdown",
   "metadata": {},
   "source": [
    "#### while문 문법\n",
    "\n",
    "```\n",
    "while < test statement >:  \n",
    "   < test 결과가 True일 경우 해야 할 일 >\n",
    "```\n",
    "    \n",
    "```if```문과 비슷한 구조를 지님   \n",
    "* < test statement >가 ```True```일 경우 해야 할 일을 수행하고 다시 ```while```문으로 돌아가 test statement가 참인지 체크  \n",
    "* < test statement >가 ```False```일 경우 ```while```문 종료  \n",
    "* ```if``` 문과 마찬가지로 들여쓰기 규칙을 잘 지켜야 한다.\n",
    "    \n",
    "```while```문 내의 코드를 잘 작성하여 무한 루프(infinite loop)가 발생하지 않도록 주의\n",
    "\n",
    "#### 무한 루프의 예\n",
    "\n",
    "아래의 코드에서는 ```j```의 값에 변화가 없기 때문에 무한히 ```\"Hello world\"```를 출력.  \n",
    "만약 Code셀에서 아래의 프로그램을 실행해 보았다면, Juptyer notebook의 정사각형 버튼을 클릭하여 강제로 종료하도록 하자."
   ]
  },
  {
   "cell_type": "markdown",
   "metadata": {},
   "source": [
    "```\n",
    "j = 3\n",
    "while j > 0:\n",
    "    print(\"Hello world\")\n",
    "```"
   ]
  },
  {
   "cell_type": "markdown",
   "metadata": {},
   "source": [
    "```while```문 내에서 ```j```의 값을 변화하도록 수정하여 무한루프 문제 해결\n",
    "* ```j```의 값이 매 loop마다 1씩 감소하며 세 번 ```\"Hello world\"```를 출력"
   ]
  },
  {
   "cell_type": "code",
   "execution_count": 3,
   "metadata": {},
   "outputs": [
    {
     "name": "stdout",
     "output_type": "stream",
     "text": [
      "Hello world\n",
      "Hello world\n",
      "Hello world\n"
     ]
    }
   ],
   "source": [
    "j = 3\n",
    "while j > 0:\n",
    "    j -= 1\n",
    "    print(\"Hello world\")"
   ]
  },
  {
   "cell_type": "markdown",
   "metadata": {},
   "source": [
    "위 반복문을 ```j```의 값을 증가하는 방법으로 코드를 조금 바꾸어 보자."
   ]
  },
  {
   "cell_type": "code",
   "execution_count": 4,
   "metadata": {},
   "outputs": [
    {
     "name": "stdout",
     "output_type": "stream",
     "text": [
      "Hello world, iteration number :  1\n",
      "Hello world, iteration number :  2\n",
      "Hello world, iteration number :  3\n"
     ]
    }
   ],
   "source": [
    "j = 0\n",
    "while j < 3:\n",
    "    j += 1\n",
    "    print(\"Hello world, iteration number : \", j)"
   ]
  },
  {
   "cell_type": "markdown",
   "metadata": {},
   "source": [
    "#### 반복문 다시 살펴 보기"
   ]
  },
  {
   "cell_type": "code",
   "execution_count": 5,
   "metadata": {},
   "outputs": [
    {
     "name": "stdout",
     "output_type": "stream",
     "text": [
      "5\n",
      "10\n",
      "15\n"
     ]
    }
   ],
   "source": [
    "x = 0\n",
    "j = 3\n",
    "while j > 0:\n",
    "    x += 5\n",
    "    j -= 1\n",
    "    print(x)"
   ]
  },
  {
   "cell_type": "markdown",
   "metadata": {},
   "source": [
    "* ```while```문 검사에 사용하는 변수 ```j```는 ```while```문 바깥에서 미리 초기화\n",
    "* ```while```문 내에서 ```j```의 값을 변화시키면서 무한 루프를 방지\n",
    "* 반복문에 어떻게 작동하는지 이해가 힘들 경우 위 예제처럼 핵심 변수를 ```print```하여 반복문의 원리를 파악한다."
   ]
  },
  {
   "cell_type": "markdown",
   "metadata": {},
   "source": [
    "#### 예제"
   ]
  },
  {
   "cell_type": "code",
   "execution_count": 6,
   "metadata": {},
   "outputs": [
    {
     "name": "stdout",
     "output_type": "stream",
     "text": [
      "3 * 3 = 9\n"
     ]
    }
   ],
   "source": [
    "x = 3\n",
    "ans = 0\n",
    "i = x\n",
    "while (i != 0):\n",
    "    ans = ans + x\n",
    "    i = i - 1\n",
    "print(str(x) + ' * ' + str(x) + ' = ' + str(ans))"
   ]
  },
  {
   "cell_type": "code",
   "execution_count": 7,
   "metadata": {},
   "outputs": [
    {
     "name": "stdout",
     "output_type": "stream",
     "text": [
      "3 * 3 = 9\n"
     ]
    }
   ],
   "source": [
    "x = 3\n",
    "ans = 0\n",
    "i = 0\n",
    "while (i < 3):\n",
    "    ans = ans + x\n",
    "    i = i + 1\n",
    "print(str(x) + ' * ' + str(x) + ' = ' + str(ans))"
   ]
  },
  {
   "cell_type": "markdown",
   "metadata": {},
   "source": [
    "#### 반복문 내의 반복문"
   ]
  },
  {
   "cell_type": "code",
   "execution_count": 8,
   "metadata": {},
   "outputs": [
    {
     "name": "stdout",
     "output_type": "stream",
     "text": [
      "12\n"
     ]
    }
   ],
   "source": [
    "x = 3\n",
    "counter = 0\n",
    "while x>0:\n",
    "    y = 4\n",
    "    x -= 1\n",
    "    while y>0:\n",
    "        counter += 1\n",
    "        y -= 1\n",
    "print(counter)"
   ]
  },
  {
   "cell_type": "markdown",
   "metadata": {},
   "source": [
    "예제\n",
    "\n",
    "1 ~ 9 구구단 만들기"
   ]
  },
  {
   "cell_type": "code",
   "execution_count": 6,
   "metadata": {},
   "outputs": [
    {
     "name": "stdout",
     "output_type": "stream",
     "text": [
      "1  *  1  =  1\n",
      "1  *  2  =  2\n",
      "1  *  3  =  3\n",
      "1  *  4  =  4\n",
      "1  *  5  =  5\n",
      "1  *  6  =  6\n",
      "1  *  7  =  7\n",
      "1  *  8  =  8\n",
      "1  *  9  =  9\n",
      "2  *  1  =  2\n",
      "2  *  2  =  4\n",
      "2  *  3  =  6\n",
      "2  *  4  =  8\n",
      "2  *  5  =  10\n",
      "2  *  6  =  12\n",
      "2  *  7  =  14\n",
      "2  *  8  =  16\n",
      "2  *  9  =  18\n",
      "3  *  1  =  3\n",
      "3  *  2  =  6\n",
      "3  *  3  =  9\n",
      "3  *  4  =  12\n",
      "3  *  5  =  15\n",
      "3  *  6  =  18\n",
      "3  *  7  =  21\n",
      "3  *  8  =  24\n",
      "3  *  9  =  27\n",
      "4  *  1  =  4\n",
      "4  *  2  =  8\n",
      "4  *  3  =  12\n",
      "4  *  4  =  16\n",
      "4  *  5  =  20\n",
      "4  *  6  =  24\n",
      "4  *  7  =  28\n",
      "4  *  8  =  32\n",
      "4  *  9  =  36\n",
      "5  *  1  =  5\n",
      "5  *  2  =  10\n",
      "5  *  3  =  15\n",
      "5  *  4  =  20\n",
      "5  *  5  =  25\n",
      "5  *  6  =  30\n",
      "5  *  7  =  35\n",
      "5  *  8  =  40\n",
      "5  *  9  =  45\n",
      "6  *  1  =  6\n",
      "6  *  2  =  12\n",
      "6  *  3  =  18\n",
      "6  *  4  =  24\n",
      "6  *  5  =  30\n",
      "6  *  6  =  36\n",
      "6  *  7  =  42\n",
      "6  *  8  =  48\n",
      "6  *  9  =  54\n",
      "7  *  1  =  7\n",
      "7  *  2  =  14\n",
      "7  *  3  =  21\n",
      "7  *  4  =  28\n",
      "7  *  5  =  35\n",
      "7  *  6  =  42\n",
      "7  *  7  =  49\n",
      "7  *  8  =  56\n",
      "7  *  9  =  63\n",
      "8  *  1  =  8\n",
      "8  *  2  =  16\n",
      "8  *  3  =  24\n",
      "8  *  4  =  32\n",
      "8  *  5  =  40\n",
      "8  *  6  =  48\n",
      "8  *  7  =  56\n",
      "8  *  8  =  64\n",
      "8  *  9  =  72\n",
      "9  *  1  =  9\n",
      "9  *  2  =  18\n",
      "9  *  3  =  27\n",
      "9  *  4  =  36\n",
      "9  *  5  =  45\n",
      "9  *  6  =  54\n",
      "9  *  7  =  63\n",
      "9  *  8  =  72\n",
      "9  *  9  =  81\n"
     ]
    }
   ],
   "source": [
    "x = 1\n",
    "while x <= 9 :\n",
    "    y = 1\n",
    "    while y <= 9 :\n",
    "        print(x, \" * \", y, \" = \", x * y)\n",
    "        y += 1\n",
    "    x += 1"
   ]
  },
  {
   "cell_type": "markdown",
   "metadata": {},
   "source": [
    "#### ```break```를 통한 ```while``` 벗어나기\n",
    "\n",
    "```break```를 이용하면 현재의 loop를 벗어날 수 있음\n",
    "\n",
    "(이후에 배울 ```for```문도 break를 통해 벗어날 수 있다.)\n",
    "\n",
    "* 일반적으로 ```if```와 함께 사용되며 ```if```의 조건이 ```True```이면 현재 loop 종료"
   ]
  },
  {
   "cell_type": "code",
   "execution_count": 9,
   "metadata": {},
   "outputs": [
    {
     "name": "stdout",
     "output_type": "stream",
     "text": [
      "10\n"
     ]
    }
   ],
   "source": [
    "count = 0\n",
    "while True:\n",
    "    count += 1\n",
    "    if count >= 10:\n",
    "        break\n",
    "print(count)"
   ]
  },
  {
   "cell_type": "markdown",
   "metadata": {},
   "source": [
    "#### ```while```문을 통해 여러 번 입력 받기\n",
    "\n",
    "숫자를 다섯 개 입력 받아 총 합을 출력"
   ]
  },
  {
   "cell_type": "code",
   "execution_count": null,
   "metadata": {},
   "outputs": [],
   "source": [
    "counter = 5\n",
    "summation = 0\n",
    "while counter > 0:\n",
    "    num = input(\"Input any number : \") \n",
    "    summation += float(num)\n",
    "    counter -= 1\n",
    "print(summation)"
   ]
  },
  {
   "cell_type": "markdown",
   "metadata": {},
   "source": [
    "#### 예제\n",
    "다음의 예제에서는 10회 구매 후 회원등급을 조회한다. \n",
    "누적 결제금액이 500,000원 이상이면 VIP가 된다."
   ]
  },
  {
   "cell_type": "code",
   "execution_count": 1,
   "metadata": {},
   "outputs": [
    {
     "name": "stdout",
     "output_type": "stream",
     "text": [
      "enter pament amount : 1\n",
      "enter pament amount : 100\n",
      "enter pament amount : 1000\n",
      "enter pament amount : 100000\n",
      "enter pament amount : 222100\n",
      "enter pament amount : 12120\n",
      "enter pament amount : 3232\n",
      "enter pament amount : 520\n",
      "enter pament amount : 88850\n",
      "enter pament amount : 9000\n",
      "436923\n",
      "You are not VIP\n"
     ]
    }
   ],
   "source": [
    "# 이 예제는 s21810671에 의해 제공되었다.\n",
    "\n",
    "counter = 10\n",
    "summation = 0\n",
    "while counter > 0:\n",
    "    num = input(\"enter pament amount : \") \n",
    "    summation += int(num)\n",
    "    counter -= 1\n",
    "print(summation)\n",
    "\n",
    "if summation >= 500000 :\n",
    "    print('You are VIP')\n",
    "else :\n",
    "    print('You are not VIP')"
   ]
  },
  {
   "cell_type": "markdown",
   "metadata": {},
   "source": [
    "다음 코드는 입력된 문자열을 출력하는 단순 프로그램이며 ```q```를 입력하여 빠져나올 수 있다."
   ]
  },
  {
   "cell_type": "code",
   "execution_count": 11,
   "metadata": {},
   "outputs": [
    {
     "name": "stdout",
     "output_type": "stream",
     "text": [
      "If type q, you can quit : Hi\n",
      "You just typed : Hi\n",
      "If type q, you can quit : Good morning\n",
      "You just typed : Good morning\n",
      "If type q, you can quit : q\n"
     ]
    }
   ],
   "source": [
    "while True:\n",
    "    inpt = input(\"If type q, you can quit : \")\n",
    "    if inpt == 'q':\n",
    "        break\n",
    "    else: print(\"You just typed :\", inpt)"
   ]
  },
  {
   "cell_type": "markdown",
   "metadata": {},
   "source": [
    "#### 예제\n",
    "다음의 예제에서는 오늘이 며칠인지 날짜를 맞힐 때까지 질문을 계속한다.\n"
   ]
  },
  {
   "cell_type": "code",
   "execution_count": 7,
   "metadata": {},
   "outputs": [
    {
     "name": "stdout",
     "output_type": "stream",
     "text": [
      "What is the date of today? 5\n",
      "Not correct!\n",
      "What is the date of today? 3\n",
      "Correct!\n"
     ]
    }
   ],
   "source": [
    "date = 3\n",
    "while True:\n",
    "    today = int(input(\"What is the date of today? \"))\n",
    "    if today == date :\n",
    "        print(\"Correct!\")\n",
    "        break\n",
    "    else : print(\"Not correct!\")"
   ]
  },
  {
   "cell_type": "markdown",
   "metadata": {},
   "source": [
    "#### 예제\n",
    "다음의 예제에서는 초항이 1이고 등차가 6인 수열에서 항의 값이 100 미만인 모든 항을 출력한다."
   ]
  },
  {
   "cell_type": "code",
   "execution_count": 1,
   "metadata": {},
   "outputs": [
    {
     "name": "stdout",
     "output_type": "stream",
     "text": [
      "1\n",
      "7\n",
      "13\n",
      "19\n",
      "25\n",
      "31\n",
      "37\n",
      "43\n",
      "49\n",
      "55\n",
      "61\n",
      "67\n",
      "73\n",
      "79\n",
      "85\n",
      "91\n",
      "97\n"
     ]
    }
   ],
   "source": [
    "#이 예제는 s21720065에 의해 제공되었다.\n",
    "\n",
    "a = 1\n",
    "while True:\n",
    "    print(a)\n",
    "    a = a+6\n",
    "    \n",
    "    if(a >= 100): \n",
    "        break"
   ]
  },
  {
   "cell_type": "code",
   "execution_count": null,
   "metadata": {},
   "outputs": [],
   "source": [
    "#올바른 비밀번호를 입력할때까지 반복\n",
    "\n",
    "while True:\n",
    "    x=input(\"input password\")\n",
    "    if x==\"lostark\"\n",
    "    print(\"correct!\")\n",
    "    break\n",
    "    else:\n",
    "        print(\"error try again\")"
   ]
  },
  {
   "cell_type": "markdown",
   "metadata": {},
   "source": [
    "# 예제"
   ]
  },
  {
   "cell_type": "markdown",
   "metadata": {},
   "source": [
    "다음의 예제는 40 이하까지만 3,6,9게임을 한다"
   ]
  },
  {
   "cell_type": "code",
   "execution_count": 11,
   "metadata": {},
   "outputs": [
    {
     "name": "stdout",
     "output_type": "stream",
     "text": [
      "1\n",
      "2\n",
      "짝\n",
      "4\n",
      "5\n",
      "짝\n",
      "7\n",
      "8\n",
      "짝\n",
      "10\n",
      "11\n",
      "12\n",
      "짝\n",
      "14\n",
      "15\n",
      "짝\n",
      "17\n",
      "18\n",
      "짝\n",
      "20\n",
      "21\n",
      "22\n",
      "짝\n",
      "24\n",
      "25\n",
      "짝\n",
      "27\n",
      "28\n",
      "짝\n",
      "30\n",
      "31\n",
      "32\n",
      "짝\n",
      "34\n",
      "35\n",
      "짝\n",
      "37\n",
      "38\n",
      "짝\n",
      "40\n"
     ]
    }
   ],
   "source": [
    "#이 예제는 s21410771에 의해 제공되었다.\n",
    "\n",
    "\n",
    "i = 1\n",
    "while i<=40:\n",
    "    clap = i\n",
    "    stut = i%10\n",
    "    if not stut % 3 and stut:\n",
    "        clap = '짝'\n",
    "    print(clap)\n",
    "    i+=1"
   ]
  },
  {
   "cell_type": "markdown",
   "metadata": {},
   "source": [
    "#### ```while/else```\n",
    "\n",
    "Python에 있는 독특한 문법    \n",
    "```while```문의 반복 조건이 ```False```일 경우 ```else```문을 실행\n",
    "* ```while```문에 아예 진입하지 않았거나 정상적으로 종료될 경우 ```else```문 실행\n",
    "\n",
    "```break```를 통해 ```while```문을 강제로 빠져나오면 ```else```문은 실행되지 않음  \n",
    "(이후에 배울 ```for```문도 비슷하게 ```for/else```문을 적용할 수 있다.)\n",
    "\n",
    "예제 : ```x```의 값을 바꿔가며 실험해 보자."
   ]
  },
  {
   "cell_type": "code",
   "execution_count": 12,
   "metadata": {},
   "outputs": [
    {
     "name": "stdout",
     "output_type": "stream",
     "text": [
      "x is a power of 2\n"
     ]
    }
   ],
   "source": [
    "x = 8\n",
    "while x % 2 == 0:\n",
    "    x = x / 2\n",
    "    if x == 1:\n",
    "        print(\"x is a power of 2\")\n",
    "        break\n",
    "else:\n",
    "    print(\"x is not a power of 2\")"
   ]
  },
  {
   "cell_type": "markdown",
   "metadata": {},
   "source": [
    "#### 반복문의 일반적 형태\n",
    "\n",
    "반복문을 설계하여야 할 때 다음 사항들을 생각해 보자.\n",
    "* counter로 사용할 변수 설정\n",
    "* counter 변수를 반복문 바깥에서 초기화\n",
    "* 반복문이 언제 끝나야 하는지 결정하는 end-test 설정\n",
    "* 반복문 내에서 실행할 코드를 작성\n",
    "  * counter를 변화시키는 작업 포함\n",
    "* 반복문이 종료되었을 때 이를 이용해 무엇을 할지 결정"
   ]
  },
  {
   "cell_type": "markdown",
   "metadata": {},
   "source": [
    "#### 제곱근을 찾는 단순 반복문 프로그램\n",
    "\n",
    "다음의 프로그램은 x가 제곱수일 경우 정수인 제곱근을 찾아준다.\n",
    "* 단, 한 가지 잘못된 점이 있다. 찾아보자."
   ]
  },
  {
   "cell_type": "code",
   "execution_count": 13,
   "metadata": {},
   "outputs": [
    {
     "name": "stdout",
     "output_type": "stream",
     "text": [
      "5\n"
     ]
    }
   ],
   "source": [
    "x = 16\n",
    "ans = 0\n",
    "while ans * ans <= x:\n",
    "    ans = ans + 1\n",
    "print(ans)"
   ]
  },
  {
   "cell_type": "markdown",
   "metadata": {},
   "source": [
    "위 프로그램은 정수의 제곱에만 한정된 프로그램이다.\n",
    "한편, 다음은 양의 실수 범위에서 제곱근을 찾는 단순 반복문 프로그램이다.\n",
    "* 아래의 프로그램이 어떻게 작동하는지 생각해 보자.\n",
    "* 이 프로그램을 어떻게 하면 향상시킬 수 있는지 생각해 보자.\n",
    "  * 여유가 되면 Bisection 방법에 대해 조사하여 보자."
   ]
  },
  {
   "cell_type": "code",
   "execution_count": 14,
   "metadata": {},
   "outputs": [
    {
     "name": "stdout",
     "output_type": "stream",
     "text": [
      "4.242599999999998\n"
     ]
    }
   ],
   "source": [
    "x = 18\n",
    "ans = 0\n",
    "increment = 1\n",
    "while increment >= 0.0001:\n",
    "    ans += increment\n",
    "    if ans**2 == x:\n",
    "        break\n",
    "    elif ans**2 > x:\n",
    "        ans -= increment\n",
    "        increment = increment/10.0\n",
    "print(ans)"
   ]
  },
  {
   "cell_type": "markdown",
   "metadata": {},
   "source": [
    "#### 약수를 찾는 프로그램\n",
    "\n",
    "다음은 약수를 찾는 프로그램이다. 어떻게 향상시킬 수 있을까?"
   ]
  },
  {
   "cell_type": "code",
   "execution_count": 15,
   "metadata": {},
   "outputs": [
    {
     "name": "stdout",
     "output_type": "stream",
     "text": [
      "1\n",
      "2\n",
      "4\n",
      "5\n",
      "10\n",
      "20\n",
      "25\n",
      "50\n",
      "100\n"
     ]
    }
   ],
   "source": [
    "x = 100\n",
    "divisor = 1\n",
    "while divisor <= 100:\n",
    "    if x % divisor == 0:\n",
    "        print(divisor)\n",
    "    divisor += 1"
   ]
  },
  {
   "cell_type": "markdown",
   "metadata": {},
   "source": [
    "#### 예제\n",
    "- 1부터 1000 까지의 정수 중 3의 배수 합 구하기"
   ]
  },
  {
   "cell_type": "code",
   "execution_count": 1,
   "metadata": {},
   "outputs": [
    {
     "name": "stdout",
     "output_type": "stream",
     "text": [
      "166833\n"
     ]
    }
   ],
   "source": [
    "total = 0\n",
    "num = 1\n",
    "\n",
    "while num <= 1000:\n",
    "    if num % 3 == 0:\n",
    "        total += num\n",
    "    num += 1\n",
    "    \n",
    "print(total)"
   ]
  },
  {
   "cell_type": "markdown",
   "metadata": {},
   "source": [
    "#### 예제"
   ]
  },
  {
   "cell_type": "markdown",
   "metadata": {},
   "source": [
    "##### 2와 100사이의 랜덤숫자 x의 소수판별하기"
   ]
  },
  {
   "cell_type": "code",
   "execution_count": 12,
   "metadata": {},
   "outputs": [
    {
     "name": "stdout",
     "output_type": "stream",
     "text": [
      "94 는 소수가 아니다.\n"
     ]
    }
   ],
   "source": [
    "#이 예제는 s21910677에 의해 제공되었다.\n",
    "\n",
    "import random\n",
    "x=random.randint(1,100)\n",
    "y=0\n",
    "i=2\n",
    "while i < x:\n",
    "    if x % i == 0:\n",
    "        y=1\n",
    "    i += 1\n",
    "if y == 0:\n",
    "    print(x,\"는 소수이다.\")\n",
    "else:\n",
    "    print(x,\"는 소수가 아니다.\")"
   ]
  },
  {
   "cell_type": "markdown",
   "metadata": {},
   "source": [
    "### for를 이용한 반복문"
   ]
  },
  {
   "cell_type": "code",
   "execution_count": 16,
   "metadata": {},
   "outputs": [
    {
     "name": "stdout",
     "output_type": "stream",
     "text": [
      "1\n",
      "2\n",
      "3\n",
      "4\n"
     ]
    }
   ],
   "source": [
    "for x in [1,2,3,4]:\n",
    "    print(x)"
   ]
  },
  {
   "cell_type": "markdown",
   "metadata": {},
   "source": [
    "문법은 다음과 같음: \n",
    "\n",
    "```\n",
    "for < variable > in < some collection >:  \n",
    "   < something to do >\n",
    "```\n",
    "\n",
    "조사할 특정 범위가 있다면 ```for```문이 ```while```문보다 간결히 이용될 여지가 많다."
   ]
  },
  {
   "cell_type": "code",
   "execution_count": 17,
   "metadata": {},
   "outputs": [
    {
     "name": "stdout",
     "output_type": "stream",
     "text": [
      "p\n",
      "y\n",
      "t\n",
      "h\n",
      "o\n",
      "n\n"
     ]
    }
   ],
   "source": [
    "for character in \"python\":\n",
    "    print(character)"
   ]
  },
  {
   "cell_type": "code",
   "execution_count": 18,
   "metadata": {},
   "outputs": [
    {
     "name": "stdout",
     "output_type": "stream",
     "text": [
      "python"
     ]
    }
   ],
   "source": [
    "for character in \"python\":\n",
    "    print(character, end='')"
   ]
  },
  {
   "cell_type": "code",
   "execution_count": 21,
   "metadata": {},
   "outputs": [
    {
     "name": "stdout",
     "output_type": "stream",
     "text": [
      "e\n",
      "a\n"
     ]
    }
   ],
   "source": [
    "for character in \"spyderman\":\n",
    "    if character in \"aeiou\":\n",
    "        print(character)"
   ]
  },
  {
   "cell_type": "markdown",
   "metadata": {},
   "source": [
    "#### 예제"
   ]
  },
  {
   "cell_type": "code",
   "execution_count": null,
   "metadata": {},
   "outputs": [],
   "source": [
    "# 이 예제는 s21810669에 의해 제공되었다.\n",
    "num = int(input(\"정수를 입력하세요 : \"))\n",
    "counter = 1\n",
    "for i in range(1, num+1):\n",
    "    counter = counter * i\n",
    "    \n",
    "print(num,\"!은\",counter,\"입니다.\")"
   ]
  },
  {
   "cell_type": "markdown",
   "metadata": {},
   "source": [
    "#### 예제 \n",
    "단어의 순서를 거꾸로 만들어 출력하기"
   ]
  },
  {
   "cell_type": "code",
   "execution_count": 20,
   "metadata": {},
   "outputs": [
    {
     "name": "stdout",
     "output_type": "stream",
     "text": [
      "edcba\n"
     ]
    }
   ],
   "source": [
    "string = \"abcde\"\n",
    "reversed_string = \"\"\n",
    "for s in string:\n",
    "    reversed_string  = s + reversed_string \n",
    "print(reversed_string)"
   ]
  },
  {
   "cell_type": "markdown",
   "metadata": {},
   "source": [
    "다음의 ```range()``` 함수 사용 결과는 0 이상 5미만의 숫자 리스트를 나타낸다."
   ]
  },
  {
   "cell_type": "code",
   "execution_count": 21,
   "metadata": {},
   "outputs": [
    {
     "name": "stdout",
     "output_type": "stream",
     "text": [
      "0\n",
      "1\n",
      "2\n",
      "3\n",
      "4\n"
     ]
    }
   ],
   "source": [
    "for j in range(0,5):\n",
    "    print(j)"
   ]
  },
  {
   "cell_type": "markdown",
   "metadata": {},
   "source": [
    "#### range()의 다양한 활용\n",
    "\n",
    "Python 2의 ```range()```와 Python 3의 ```range()```는 약간의 차이가 있으나 그 용법은 거의 비슷하다."
   ]
  },
  {
   "cell_type": "code",
   "execution_count": 22,
   "metadata": {},
   "outputs": [
    {
     "name": "stdout",
     "output_type": "stream",
     "text": [
      "2\n",
      "3\n",
      "4\n",
      "5\n"
     ]
    }
   ],
   "source": [
    "for j in range(2,6): print(j)"
   ]
  },
  {
   "cell_type": "code",
   "execution_count": 23,
   "metadata": {},
   "outputs": [
    {
     "name": "stdout",
     "output_type": "stream",
     "text": [
      "0\n",
      "1\n",
      "2\n",
      "3\n",
      "4\n",
      "5\n",
      "6\n",
      "7\n"
     ]
    }
   ],
   "source": [
    "for j in range(8): print(j)"
   ]
  },
  {
   "cell_type": "code",
   "execution_count": 24,
   "metadata": {},
   "outputs": [
    {
     "name": "stdout",
     "output_type": "stream",
     "text": [
      "4\n",
      "6\n",
      "8\n"
     ]
    }
   ],
   "source": [
    "for j in range(4,10,2): print(j)"
   ]
  },
  {
   "cell_type": "code",
   "execution_count": 25,
   "metadata": {},
   "outputs": [
    {
     "name": "stdout",
     "output_type": "stream",
     "text": [
      "0\n",
      "-2\n",
      "-4\n",
      "-6\n"
     ]
    }
   ],
   "source": [
    "for j in range(0,-8,-2): print(j)"
   ]
  },
  {
   "cell_type": "code",
   "execution_count": 22,
   "metadata": {},
   "outputs": [
    {
     "name": "stdout",
     "output_type": "stream",
     "text": [
      "★ \n",
      "★ ★ \n",
      "★ ★ ★ \n"
     ]
    }
   ],
   "source": [
    "for i in range(3) :\n",
    "    for j in range(3) :\n",
    "        if j <= i :\n",
    "            print(\"★\", end=\" \")\n",
    "    print()"
   ]
  },
  {
   "cell_type": "markdown",
   "metadata": {},
   "source": [
    "#### 중간과제 예제(피보나치 수열)\n",
    "\n",
    "피보나치 수열은 fn = fn-1 + fn-2를 만족하는 수열이다. 양의 정수 n을 입력받은 후, f0부터 fn까지 출력하는 프로그램을 작성해보기\n"
   ]
  },
  {
   "cell_type": "code",
   "execution_count": 2,
   "metadata": {},
   "outputs": [
    {
     "name": "stdout",
     "output_type": "stream",
     "text": [
      "양의 정수 n을 입력하세요 : 10\n",
      "0\n",
      "1\n",
      "1\n",
      "2\n",
      "3\n",
      "5\n",
      "8\n",
      "13\n",
      "21\n",
      "34\n"
     ]
    }
   ],
   "source": [
    "a=-1\n",
    "b=1\n",
    "c=a+b\n",
    "\n",
    "n=input(\"양의 정수 n을 입력하세요 : \")\n",
    "n=int(n)\n",
    "\n",
    "for i in range(0,n) :\n",
    "    c=a+b\n",
    "    print(c)\n",
    "    a=b\n",
    "    b=c\n"
   ]
  },
  {
   "cell_type": "markdown",
   "metadata": {},
   "source": [
    "#### 예제\n",
    "\n",
    "다음은 소수를 찾는 프로그램이다.\n",
    "\n",
    "다음의 코드는 약간의 수정이 필요하다."
   ]
  },
  {
   "cell_type": "code",
   "execution_count": 1,
   "metadata": {},
   "outputs": [
    {
     "name": "stdout",
     "output_type": "stream",
     "text": [
      "10 equals 2 * 5\n",
      "11 is a prime number\n",
      "11 is a prime number\n",
      "11 is a prime number\n",
      "11 is a prime number\n",
      "11 is a prime number\n",
      "11 is a prime number\n",
      "11 is a prime number\n",
      "11 is a prime number\n",
      "11 is a prime number\n",
      "12 equals 2 * 6\n",
      "13 is a prime number\n",
      "13 is a prime number\n",
      "13 is a prime number\n",
      "13 is a prime number\n",
      "13 is a prime number\n",
      "13 is a prime number\n",
      "13 is a prime number\n",
      "13 is a prime number\n",
      "13 is a prime number\n",
      "13 is a prime number\n",
      "13 is a prime number\n",
      "14 equals 2 * 7\n",
      "15 is a prime number\n",
      "15 equals 3 * 5\n",
      "16 equals 2 * 8\n",
      "17 is a prime number\n",
      "17 is a prime number\n",
      "17 is a prime number\n",
      "17 is a prime number\n",
      "17 is a prime number\n",
      "17 is a prime number\n",
      "17 is a prime number\n",
      "17 is a prime number\n",
      "17 is a prime number\n",
      "17 is a prime number\n",
      "17 is a prime number\n",
      "17 is a prime number\n",
      "17 is a prime number\n",
      "17 is a prime number\n",
      "17 is a prime number\n",
      "18 equals 2 * 9\n",
      "19 is a prime number\n",
      "19 is a prime number\n",
      "19 is a prime number\n",
      "19 is a prime number\n",
      "19 is a prime number\n",
      "19 is a prime number\n",
      "19 is a prime number\n",
      "19 is a prime number\n",
      "19 is a prime number\n",
      "19 is a prime number\n",
      "19 is a prime number\n",
      "19 is a prime number\n",
      "19 is a prime number\n",
      "19 is a prime number\n",
      "19 is a prime number\n",
      "19 is a prime number\n",
      "19 is a prime number\n"
     ]
    }
   ],
   "source": [
    "for num in range(10, 20):\n",
    "    for i in range(2, num):\n",
    "        if num % i == 0:\n",
    "            j = num/ i\n",
    "            print('%d equals %d * %d'%(num, i, j))\n",
    "            break\n",
    "        else:\n",
    "            print(num, 'is a prime number')"
   ]
  },
  {
   "cell_type": "markdown",
   "metadata": {},
   "source": [
    "수정한 코드는 다음 아래와 같다."
   ]
  },
  {
   "cell_type": "code",
   "execution_count": 4,
   "metadata": {},
   "outputs": [
    {
     "name": "stdout",
     "output_type": "stream",
     "text": [
      "10 equals 2 * 5\n",
      "11 is a prime number\n",
      "12 equals 2 * 6\n",
      "13 is a prime number\n",
      "14 equals 2 * 7\n",
      "15 equals 3 * 5\n",
      "16 equals 2 * 8\n",
      "17 is a prime number\n",
      "18 equals 2 * 9\n",
      "19 is a prime number\n"
     ]
    }
   ],
   "source": [
    "for num in range(10, 20):\n",
    "    for i in range(2, num):\n",
    "        if num % i == 0:\n",
    "            j = num / i\n",
    "            print('%d equals %d * %d'%(num, i, j))\n",
    "            break\n",
    "        elif i == num - 1:\n",
    "            print(num, 'is a prime number')"
   ]
  },
  {
   "cell_type": "markdown",
   "metadata": {},
   "source": [
    "### 연습문제\n",
    "\n",
    "* 1500에서 2700사이의 숫자 중에서 7로 나누어 떨어지고, 5의 배수인 모든 숫자를 출력하라."
   ]
  },
  {
   "cell_type": "markdown",
   "metadata": {},
   "source": [
    "* 킬로미터를 미터로, 미터를 킬로미터로 변환하는 프로그램을 작성하라. 예를 들어 1500m을 입력하면, 1.5km을 출력하고, 2.3km을 입력하면 2300m를 출력하게 하라. (이 예제는 list 단원을 공부하면 더욱 쉽게 해결할 수 있다.)"
   ]
  },
  {
   "cell_type": "code",
   "execution_count": 15,
   "metadata": {},
   "outputs": [
    {
     "name": "stdout",
     "output_type": "stream",
     "text": [
      "kilometer :2.3\n",
      "meter : 1500\n",
      "2300.0 m\n",
      "1.5 km\n"
     ]
    }
   ],
   "source": [
    "#다음 해설을 s21410771에 의해 제공되었다.\n",
    "\n",
    "kilometer=float(input(\"kilometer :\"))\n",
    "meter=float(input(\"meter : \"))\n",
    "y=kilometer\n",
    "kilometer=meter/1000\n",
    "meter=y*1000\n",
    "print('%s m'%(meter))\n",
    "print('%s km'%(kilometer))"
   ]
  },
  {
   "cell_type": "markdown",
   "metadata": {},
   "source": [
    "* 다음 패턴을 출력하는 프로그램을 작성하라.\n",
    "\n",
    "@ \n",
    "\n",
    "@ @ \n",
    "\n",
    "@ @ @ \n",
    "\n",
    "@ @ @ @ \n",
    "\n",
    "@ @ @ @ @  \n",
    "\n",
    "@ @ @ @ \n",
    "\n",
    "@ @ @\n",
    "\n",
    "@ @ \n",
    "\n",
    "@"
   ]
  },
  {
   "cell_type": "code",
   "execution_count": 14,
   "metadata": {},
   "outputs": [
    {
     "name": "stdout",
     "output_type": "stream",
     "text": [
      "@\n",
      "@@\n",
      "@@@\n",
      "@@@@\n",
      "@@@@@\n",
      "@@@@\n",
      "@@@\n",
      "@@\n",
      "@\n",
      "\n"
     ]
    }
   ],
   "source": [
    "#다음 해설을 s21410771에 의해 제공되었다.\n",
    "\n",
    "for i in range(5):        \n",
    "    for j in range(5):    \n",
    "        if j <= i:                \n",
    "            print('@', end='')   \n",
    "    print()    \n",
    "               \n",
    "for i in range(5):        \n",
    "    for j in range(5):    \n",
    "        if j > i:                \n",
    "            print('@', end='')   \n",
    "    print()    \n",
    "               "
   ]
  },
  {
   "cell_type": "code",
   "execution_count": 3,
   "metadata": {},
   "outputs": [
    {
     "name": "stdout",
     "output_type": "stream",
     "text": [
      "1\r\n",
      "12\r\n",
      "123\r\n",
      "1234\r\n",
      "12345\r\n",
      "1234\r\n",
      "123\r\n",
      "12\r\n",
      "1\r\n",
      "\r\n"
     ]
    }
   ],
   "source": [
    "rows = 5\n",
    "for i in range(0, rows):\n",
    "    for j in range(0, i + 1):\n",
    "        print(\"%d\" %(j+1), end='')\n",
    "    print(\"\\r\")\n",
    "    \n",
    "for i in range(rows, 0, -1):\n",
    "    for j in range(0, i-1):\n",
    "        print(\"%d\" %(j+1), end='')\n",
    "    print(\"\\r\")"
   ]
  },
  {
   "cell_type": "markdown",
   "metadata": {},
   "source": [
    "* 입력받은 숫자의 약수를 모두 출력하는 프로그램을 만들어라."
   ]
  },
  {
   "cell_type": "code",
   "execution_count": 9,
   "metadata": {},
   "outputs": [
    {
     "name": "stdout",
     "output_type": "stream",
     "text": [
      "숫자를 입력해주세요(종료 : qq) >>12\n",
      "1\n",
      "2\n",
      "3\n",
      "4\n",
      "6\n",
      "12\n",
      "숫자를 입력해주세요(종료 : qq) >>qq\n"
     ]
    }
   ],
   "source": [
    "while True:\n",
    "    num=input('숫자를 입력해주세요(종료 : qq) >>')\n",
    "    if num=='qq':break\n",
    "    num=int(num)\n",
    "    for i in range(1,num+1):\n",
    "        if num%i==0:print(i)\n",
    "    "
   ]
  },
  {
   "cell_type": "markdown",
   "metadata": {},
   "source": [
    "* 1부터 100까지 숫자 중 약수의 개수가 5개인 숫자를 모두 찾는 프로그램을 작성하라."
   ]
  },
  {
   "cell_type": "markdown",
   "metadata": {},
   "source": [
    "* 자신을 제외한 모든 약수들의 총합이 자기 자신이 되는 수를 완전수라고 한다. 1이상 1000이하의 모든 완전수를 출력하는 프로그램을 작성하라.\n",
    "  * 예: 6의 약수는 1,2,3,6이며 1+2+3=6이므로 완전수이다."
   ]
  },
  {
   "cell_type": "code",
   "execution_count": 15,
   "metadata": {},
   "outputs": [
    {
     "name": "stdout",
     "output_type": "stream",
     "text": [
      "6\n",
      "28\n",
      "496\n"
     ]
    }
   ],
   "source": [
    "# 이 풀이는 s21910674에 의해 제공되었다.\n",
    "for x in range(1,1001):\n",
    "    sum = 0\n",
    "    for i in range(1,x//2 +1):\n",
    "        if x % i ==0:\n",
    "            sum +=i\n",
    "    if x == sum:\n",
    "        print(x)"
   ]
  },
  {
   "cell_type": "markdown",
   "metadata": {},
   "source": [
    "* 메르센 수(Mersenne number)는 2의 거듭제곱에서 1이 모자란 숫자를 가리킨다.\n",
    "   * 즉 $2^n-1$의 형태로 나타난다.\n",
    "   * $3 = 2^2-1$ 이므로 메르센 수이다.\n",
    "* 1부터 1000까지의 숫자 중 메르센 숫자를 모두 찾는 프로그램을 작성하라."
   ]
  },
  {
   "cell_type": "markdown",
   "metadata": {},
   "source": [
    "* 메르센 소수는 메르센 수이면서 소수인 숫자를 나타낸다. 1부터 1000까지의 숫자 중 메르센 소수를 모두 찾는 프로그램을 작성하라."
   ]
  },
  {
   "cell_type": "markdown",
   "metadata": {},
   "source": [
    "* 거꾸로 해도 똑같은 숫자를 palindrom이라 한다. 1부터 200까지의 숫자 중 palindrom이면서 소수인 수를 모두 찾는 프로그램을 작성하라."
   ]
  },
  {
   "cell_type": "markdown",
   "metadata": {},
   "source": [
    "* 다음 방정식의 해는 모두 양의 정수로 이루어져있다고 한다. 모든 정수해를 찾아라.\n",
    "  * $x^5 - 25 x^4 + 227 x^3 - 923 x^2 + 1620 x - 900 = 0$"
   ]
  },
  {
   "cell_type": "markdown",
   "metadata": {},
   "source": [
    "* 다음 방정식의 모든 정수해를 찾아라. 해는 음수일 수도 있음\n",
    "  * $x^5 - x^4 - 33 x^3 + 61 x^2 + 32 x - 60 = 0$"
   ]
  },
  {
   "cell_type": "markdown",
   "metadata": {},
   "source": [
    "* 주어진 정수의 자리수를 계산하는 프로그램을 작성하라."
   ]
  },
  {
   "cell_type": "markdown",
   "metadata": {},
   "source": [
    "* 주어진 정수를 이진수로 바꾸는 프로그램을 작성하라."
   ]
  }
 ],
 "metadata": {
  "kernelspec": {
   "display_name": "Python 3",
   "language": "python",
   "name": "python3"
  },
  "language_info": {
   "codemirror_mode": {
    "name": "ipython",
    "version": 3
   },
   "file_extension": ".py",
   "mimetype": "text/x-python",
   "name": "python",
   "nbconvert_exporter": "python",
   "pygments_lexer": "ipython3",
   "version": "3.6.8"
  }
 },
 "nbformat": 4,
 "nbformat_minor": 2
}
